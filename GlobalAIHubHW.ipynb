{
  "nbformat": 4,
  "nbformat_minor": 0,
  "metadata": {
    "colab": {
      "name": "GlobalAIHubHW.ipynb",
      "provenance": [],
      "collapsed_sections": []
    },
    "kernelspec": {
      "name": "python3",
      "display_name": "Python 3"
    }
  },
  "cells": [
    {
      "cell_type": "code",
      "metadata": {
        "colab": {
          "base_uri": "https://localhost:8080/"
        },
        "id": "h7yrz9rF7u-D",
        "outputId": "f62bc903-aac3-470e-d40e-179a9a6aea15"
      },
      "source": [
        "n=input(\"Enter a single digit: \")\r\n",
        "if len(n)==1:\r\n",
        "  n=int(n)\r\n",
        "  for i in range(0,n+1,2):\r\n",
        "    print(i)\r\n",
        "else:\r\n",
        "  print(\"Please enter a single digit\")\r\n"
      ],
      "execution_count": 10,
      "outputs": [
        {
          "output_type": "stream",
          "text": [
            "Enter a single digit: 7\n",
            "0\n",
            "2\n",
            "4\n",
            "6\n"
          ],
          "name": "stdout"
        }
      ]
    },
    {
      "cell_type": "code",
      "metadata": {
        "id": "Fc8JtKOdCCnW"
      },
      "source": [
        "a=list([2,4,6,8,10,12])\r\n",
        "b=[]\r\n",
        "for i in a:\r\n",
        "    x=a.index(i)\r\n",
        "    while x!=len(a)/2:\r\n",
        "      b.append(i)\r\n",
        "    x+=1\r\n",
        "b"
      ],
      "execution_count": null,
      "outputs": []
    },
    {
      "cell_type": "markdown",
      "metadata": {
        "id": "xKYKO-jwMouR"
      },
      "source": [
        "Day 3 Homework"
      ]
    },
    {
      "cell_type": "code",
      "metadata": {
        "colab": {
          "base_uri": "https://localhost:8080/"
        },
        "id": "TFa2uK2GMtTP",
        "outputId": "1a19fca6-bedd-4729-f795-df81485a6a12"
      },
      "source": [
        "username=input(\"Please enter your username: \")\r\n",
        "password=input(\"Please enter your password: \")\r\n",
        "DBUsername= \"wadebayo\"\r\n",
        "DBPassword = \"xyz@123\"\r\n",
        "if username == DBUsername and password==DBPassword:\r\n",
        "  print(\"Welcome! you are logged in\")\r\n",
        "elif username == DBUsername and password!=DBPassword:\r\n",
        "  print(\"Incorrect Password\")\r\n",
        "elif username != DBUsername and password==DBPassword:\r\n",
        "  print(\"Incorrect Username\")\r\n",
        "else:\r\n",
        "  print(\"Incorrect username and password\")"
      ],
      "execution_count": 4,
      "outputs": [
        {
          "output_type": "stream",
          "text": [
            "Please enter your username: user\n",
            "Please enter your password: adm\n",
            "Incorrect username and password\n"
          ],
          "name": "stdout"
        }
      ]
    },
    {
      "cell_type": "markdown",
      "metadata": {
        "id": "R3ysukB7PoKN"
      },
      "source": [
        "Day 3 Extra"
      ]
    },
    {
      "cell_type": "code",
      "metadata": {
        "colab": {
          "base_uri": "https://localhost:8080/"
        },
        "id": "oFR_BG_xPq1S",
        "outputId": "f1b2cec8-6737-49ba-aed7-9b72c5eab2a5"
      },
      "source": [
        "credentials={DBUsername:\"wadebayo\",DBPassword:\"xyz@123\"}\r\n",
        "username=input(\"Please enter your username\")\r\n",
        "password=input(\"Please enter your password\")\r\n",
        "if username == credentials.get(DBUsername) and password == credentials.get(DBPassword):\r\n",
        "  print(\"Welcome! you are logged in\")\r\n",
        "elif username == credentials.get(DBUsername) and password != credentials.get(DBPassword):\r\n",
        "  print(\"Incorrect password\")\r\n",
        "elif username != credentials.get(DBUsername) and password == credentials.get(DBPassword):\r\n",
        "  print(\"Incorrect username\")\r\n",
        "else:\r\n",
        "  print(\"Incorrect username and password\")"
      ],
      "execution_count": 12,
      "outputs": [
        {
          "output_type": "stream",
          "text": [
            "Please enter your usernamemy\n",
            "Please enter your passwordyou\n",
            "Incorrect username and password\n"
          ],
          "name": "stdout"
        }
      ]
    },
    {
      "cell_type": "markdown",
      "metadata": {
        "id": "7Ho9N8hWQ0FN"
      },
      "source": [
        "Day 4: Prime numbers between 0 and 100"
      ]
    },
    {
      "cell_type": "code",
      "metadata": {
        "colab": {
          "base_uri": "https://localhost:8080/"
        },
        "id": "L6TD3dQzRAqx",
        "outputId": "86f68ebe-c77c-4714-8926-908b09b9d420"
      },
      "source": [
        "def primeNum():\r\n",
        "  prime=[2,3,5,7]\r\n",
        "  for n in range(0,100):\r\n",
        "    if n%2!=0 and n%3!=0 and n%5!=0 and n%7!=0 and n>1:\r\n",
        "      prime.append(n)\r\n",
        "  print(prime)\r\n",
        "primeNum() \r\n",
        "\r\n"
      ],
      "execution_count": 54,
      "outputs": [
        {
          "output_type": "stream",
          "text": [
            "[2, 3, 5, 7, 11, 13, 17, 19, 23, 29, 31, 37, 41, 43, 47, 53, 59, 61, 67, 71, 73, 79, 83, 89, 97]\n"
          ],
          "name": "stdout"
        }
      ]
    },
    {
      "cell_type": "markdown",
      "metadata": {
        "id": "K7SUvNqdd5qq"
      },
      "source": [
        "Day 5 Home work"
      ]
    },
    {
      "cell_type": "code",
      "metadata": {
        "colab": {
          "base_uri": "https://localhost:8080/"
        },
        "id": "YlaR8QN7d95w",
        "outputId": "2afce5b0-f419-4fb0-ef31-d7c5ff9a8bd2"
      },
      "source": [
        "class Animals:\r\n",
        "  def __init__(self, sound, num_of_legs, fly):\r\n",
        "    self.sound= sound\r\n",
        "    self.num_of_legs= num_of_legs\r\n",
        "    self.fly= fly\r\n",
        "  def type_of_sound(self):\r\n",
        "    print(self.sound)\r\n",
        "  def legs(self):\r\n",
        "    print(self.num_of_legs)\r\n",
        "  def can_fly(self):\r\n",
        "    print(self.fly)\r\n",
        "class Dogs(Animals):\r\n",
        "  pass\r\n",
        "class Cats(Animals):\r\n",
        "  pass\r\n",
        "dogs=Dogs(\"barks\", 4, \"No\")\r\n",
        "dogs.type_of_sound()\r\n"
      ],
      "execution_count": 2,
      "outputs": [
        {
          "output_type": "stream",
          "text": [
            "barks\n"
          ],
          "name": "stdout"
        }
      ]
    }
  ]
}